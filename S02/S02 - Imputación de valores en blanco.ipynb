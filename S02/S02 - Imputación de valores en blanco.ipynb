{
    "cells": [
        {
            "cell_type": "markdown",
            "metadata": {},
            "source": [
                "# Sesión 02\n",
                "### Imputación de valores en blanco\n",
                "\n",
                "Cargamos los datos desde el repositorio de GitHub\n"
            ]
        },
        {
            "cell_type": "code",
            "execution_count": null,
            "metadata": {
                "vscode": {
                    "languageId": "r"
                }
            },
            "outputs": [
                {
                    "ename": "",
                    "evalue": "",
                    "output_type": "error",
                    "traceback": [
                        "\u001b[1;31mFailed to start the Kernel. \n",
                        "Error in open.connection(con, \"rb\") : cannot open the connection\r\n",
                        "Calls: <Anonymous> ... parse_and_simplify -> parseJSON -> parse_con -> open -> open.connection\r\n",
                        "In addition: Warning message:\r\n",
                        "In open.connection(con, \"rb\") :\r\n",
                        "  cannot open file 'c:\\Users\\Adri�n': No such file or directory\r\n",
                        "Execution halted. \n",
                        "View Jupyter <a href='command:jupyter.viewOutput'>log</a> for further details."
                    ]
                }
            ],
            "source": [
                "library(tidyverse)\n",
                "library(ggplot2)\n",
                "\n",
                "url = 'https://raw.githubusercontent.com/calarcond/machine_learning_model/main/archivos_trabajo/titanic.csv'\n",
                "\n",
                "titanic = read_csv(url)\n",
                "\n",
                "\n",
                "summary(titanic)\n"
            ]
        },
        {
            "cell_type": "markdown",
            "metadata": {},
            "source": [
                "\n",
                "\n"
            ]
        },
        {
            "cell_type": "code",
            "execution_count": null,
            "metadata": {
                "vscode": {
                    "languageId": "r"
                }
            },
            "outputs": [],
            "source": [
                "table(is.na(titanic$Age))\n",
                "\n",
                "### Medidas de tendencia central:\n",
                "mean(titanic$Age, na.rm = TRUE)\n",
                "median(titanic$Age, na.rm= TRUE)\n",
                "\n",
                "### Histograma de la variable\n",
                "ggplot(data = titanic, aes(x = Age)) + geom_histogram()\n"
            ]
        },
        {
            "cell_type": "markdown",
            "metadata": {},
            "source": [
                "\n",
                "\n"
            ]
        },
        {
            "cell_type": "code",
            "execution_count": null,
            "metadata": {
                "vscode": {
                    "languageId": "r"
                }
            },
            "outputs": [],
            "source": [
                "titanic_mean = titanic\n",
                "promedio = mean(titanic$Age, na.rm = TRUE)\n",
                "\n",
                "titanic_mean = titanic_mean %>% mutate(Age = case_when(is.na(Age) ~ promedio,\n",
                "                                                        TRUE ~ Age))\n",
                "\n",
                "table(is.na(titanic_mean$Age))\n",
                "\n",
                "ggplot(data = titanic_mean, aes(x = Age))+ geom_histogram()\n",
                "mean(titanic_mean$Age)\n"
            ]
        },
        {
            "cell_type": "markdown",
            "metadata": {},
            "source": [
                "\n",
                "\n"
            ]
        },
        {
            "cell_type": "code",
            "execution_count": null,
            "metadata": {
                "vscode": {
                    "languageId": "r"
                }
            },
            "outputs": [],
            "source": [
                "## Imputación por promedio móvil\n",
                "\n",
                "library(imputeTS)\n",
                "titanic_varios_imp = titanic\n",
                "\n",
                "na_mean(titanic_varios_imp$Age)\n",
                "\n",
                "titanic_varios_imp$Age = na_ma(titanic_varios_imp$Age)\n",
                "\n",
                "ggplot(data = titanic_varios_imp, aes(x = Age))+ geom_histogram() + ggtitle('Imputación por promedio móvil')\n",
                "mean(titanic_varios_imp$Age)\n"
            ]
        },
        {
            "cell_type": "markdown",
            "metadata": {},
            "source": [
                "\n",
                "\n"
            ]
        },
        {
            "cell_type": "code",
            "execution_count": null,
            "metadata": {
                "vscode": {
                    "languageId": "r"
                }
            },
            "outputs": [],
            "source": [
                "## Imputación por interpolación\n",
                "\n",
                "titanic_interpolacion = titanic\n",
                "\n",
                "titanic_interpolacion$Age = na_interpolation(titanic_interpolacion$Age)\n",
                "\n",
                "ggplot(data = titanic_interpolacion, aes(x = Age))+ geom_histogram() + ggtitle('Imputación por interpolación')\n",
                "\n",
                "mean(titanic_interpolacion$Age)\n"
            ]
        },
        {
            "cell_type": "markdown",
            "metadata": {},
            "source": [
                "\n",
                "\n"
            ]
        },
        {
            "cell_type": "code",
            "execution_count": null,
            "metadata": {
                "vscode": {
                    "languageId": "r"
                }
            },
            "outputs": [],
            "source": [
                "## Imputación por modelos de machine learning\n",
                "\n",
                "library(DMwR2)\n",
                "\n",
                "titanic_ml = titanic\n",
                "numericas = titanic_ml[,c(2,3,6,7,8,10)]\n",
                "imputado = knnImputation(numericas, k = 3)\n",
                "\n",
                "titanic_ml$Age = imputado$Age\n",
                "\n",
                "ggplot(data = titanic_ml, aes(x = Age))+ geom_histogram() + ggtitle('Imputación por K-vecinos más cercanos')\n",
                "\n",
                "mean(titanic_ml$Age)\n"
            ]
        },
        {
            "cell_type": "markdown",
            "metadata": {},
            "source": [
                "\n",
                "\n"
            ]
        },
        {
            "cell_type": "code",
            "execution_count": null,
            "metadata": {
                "vscode": {
                    "languageId": "r"
                }
            },
            "outputs": [],
            "source": [
                "## One Hot Encoding\n",
                "\n",
                "library(caret)\n",
                "dummy_var = dummyVars(\"~.\", data = titanic[,c(2,3,5,6,7,8)])\n",
                "titanic_final = data.frame(predict(dummy_var, newdata = titanic[,c(2,3,5,6,7,8)]))\n",
                "  \n",
                "View(titanic_final)\n"
            ]
        },
        {
            "cell_type": "markdown",
            "metadata": {},
            "source": [
                "\n"
            ]
        }
    ],
    "metadata": {
        "anaconda-cloud": "",
        "interpreter": {
            "hash": "a1c127b98b004ffb10bdf623089e5daada6124a81f5a9b9e6b62024169afff23"
        },
        "kernelspec": {
            "display_name": "R",
            "language": "R",
            "name": "ir"
        },
        "language_info": {
            "codemirror_mode": "r",
            "file_extension": ".r",
            "mimetype": "text/x-r-source",
            "name": "R",
            "pygments_lexer": "r",
            "version": "3.10.4"
        }
    },
    "nbformat": 4,
    "nbformat_minor": 1
}
